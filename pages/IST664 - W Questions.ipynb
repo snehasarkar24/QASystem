{
 "cells": [
  {
   "cell_type": "code",
   "execution_count": 1,
   "metadata": {},
   "outputs": [],
   "source": [
    "import nltk\n",
    "import re\n",
    "from nltk.corpus import wordnet\n",
    "from nltk import stanford"
   ]
  },
  {
   "cell_type": "code",
   "execution_count": 2,
   "metadata": {},
   "outputs": [],
   "source": [
    "#Loading Stanford parser\n",
    "from nltk.parse.stanford import StanfordDependencyParser\n",
    "\n",
    "path_to_jar = '/Users/fernandogranato/Documents/Mestrado/IST664 - NLP/Stanford Parser/stanford-parser-full-2018-10-17/stanford-parser.jar'\n",
    "path_to_models_jar = '/Users/fernandogranato/Documents/Mestrado/IST664 - NLP/Stanford Parser/stanford-parser-full-2018-10-17/stanford-parser-3.9.2-models.jar'\n",
    "\n",
    "dependency_parser = StanfordDependencyParser(path_to_jar = path_to_jar, path_to_models_jar = path_to_models_jar)"
   ]
  },
  {
   "cell_type": "code",
   "execution_count": 1,
   "metadata": {},
   "outputs": [],
   "source": [
    "#Testing Dependency Parsing\n",
    "#result = dependency_parser.raw_parse(\"what are the scores for exam 1\")\n",
    "#dep = result.__next__()\n",
    "#deplist = list(dep.triples())"
   ]
  },
  {
   "cell_type": "code",
   "execution_count": 4,
   "metadata": {},
   "outputs": [],
   "source": [
    "#printing dependency test\n",
    "#for a in deplist:\n",
    "#    print(a)\n",
    "#for a,b,c in deplist:\n",
    "#    print(a[0])"
   ]
  },
  {
   "cell_type": "code",
   "execution_count": 71,
   "metadata": {},
   "outputs": [],
   "source": [
    "# Synonyms\n",
    "# to Fernando: Should I output this into a .txt file?\n",
    "syn_01 = []\n",
    "syn_01.append(['average', ['mean', 'avg']])\n",
    "syn_01.append(['max', ['top', 'best', 'highest', 'maximum']])\n",
    "syn_01.append(['min', ['worst', 'lowest', 'minimum']])\n",
    "syn_01.append(['lastname', ['last name']])\n",
    "syn_01.append(['firstname', ['first name']])\n",
    "syn_01.append(['exam1', ['exam 1', 'exam one', 'first exam', '1 exam', '1st exam']])\n",
    "syn_01.append(['exam2', ['exam 2', 'exam two', 'second exam', '2 exam', '2nd exam']])\n",
    "syn_01.append(['exam1 exam2', ['both exams', 'all exams', 'exams 1 and 2', '2 exams', 'two exams']])\n",
    "syn_01.append(['assignment1', ['assignment 1', 'assignment one', 'first assignment', '1st assignment']])\n",
    "syn_01.append(['assignment2', ['assignment 2', 'assignment two', 'second assignment', '2nd assignment']])\n",
    "syn_01.append(['assignment3', ['assignment 3', 'assignment three', 'third assignment', '3rd assignment']])\n",
    "syn_01.append(['assignment4', ['assignment 4', 'assignment four', 'fourth assignment', '4th assignment']])\n",
    "syn_01.append(['assignment5', ['assignment 5', 'assignment five', 'fifth assignment', '5th assignment']])\n",
    "syn_01.append(['assignment1 assignment2', ['assignments 1 and 2', 'assignments 1 to 2', 'assignments 1-2', 'first two assignments', 'first 2 assignments']])\n",
    "syn_01.append(['assignment1 assignment3', ['assignments 1 and 3', 'first and third assignments']])\n",
    "syn_01.append(['assignment1 assignment2 assignment3', ['assignments 1 to 3', 'assignments 1-3', 'first three assignments', 'first 3 assignments']])\n",
    "syn_01.append(['assignment2 assignment3', ['assignments 2 and 3', 'assignments 2 to 3', 'assignments 2-3', 'assignments two to three']])\n",
    "syn_01.append(['assignment1 assignment2 assignment3 assignment4', ['assignments 1 to 4', 'assignments 1-4', 'first four assignments', 'first 4 assignments']])\n",
    "syn_01.append(['assignment1 assignment2 assignment 3 assignment5', ['assignments 1 to 5', 'assignments 1-5', 'all assignments', '5 assignments', 'five assignments']])"
   ]
  },
  {
   "cell_type": "code",
   "execution_count": null,
   "metadata": {},
   "outputs": [],
   "source": []
  },
  {
   "cell_type": "code",
   "execution_count": 17,
   "metadata": {},
   "outputs": [],
   "source": [
    "# Synonyms Substitution\n",
    "def pre_process_question(question):\n",
    "    sub_words = question.lower()\n",
    "    for a, b in syn_01:\n",
    "        for c in b:\n",
    "            if sub_words.find(c) > -1:\n",
    "                sub_words = re.sub(c, a, sub_words)\n",
    "    return(sub_words)\n"
   ]
  },
  {
   "cell_type": "code",
   "execution_count": 89,
   "metadata": {},
   "outputs": [],
   "source": [
    "#Function extract_calc will parse the question and identify dependecies to understand what the user is asking about\n",
    "#After parsing the calculation method and parameters should be extracted from the question\n",
    "#4 types of questions: what, who, how many and which(?)\n",
    "#What questions reasoning:\n",
    "    #Find coreword from 'what' - nsubj - what is the user asking about\n",
    "    #Look for operations on the dependencies of coreword\n",
    "        #If operation is found, set operation as it is\n",
    "        #If operation not found, set operation as 'none'\n",
    "    #If operation was found, look for fields and scope\n",
    "        #look up for fied names on question and add them to a list\n",
    "        #if operation = 'none', scope = 'for each'\n",
    "        #otherwise\n",
    "            #if length of fields list = 1, scope = 'for all'\n",
    "            #if length of fields list > 1, scope = 'for each'\n",
    "        \n",
    "\n",
    "\n",
    "def extract_calc(question):\n",
    "    dbcols = ['assignment1', 'assignment2', 'assignment3', 'assignment4','assignment5', 'exam1', 'exam2', 'firstname', 'lastname']\n",
    "    coreword = ''\n",
    "    question = pre_process_question(question)\n",
    "    print(question)\n",
    "    qtokens = nltk.word_tokenize(question)\n",
    "    \n",
    "    #Dependencies\n",
    "    dep_01 = dependency_parser.raw_parse(question)\n",
    "    dep_01 = dep_01.__next__()\n",
    "    deplist = list(dep_01.triples())\n",
    "    \n",
    "    print(deplist) #debug\n",
    "    \n",
    "    #WHAT questions\n",
    "    if question.find('what') > -1:\n",
    "        \n",
    "        print('What question.') #debug\n",
    "        \n",
    "        #find what que question is asking about\n",
    "        for a,b,c in deplist:\n",
    "            if (a[0] in ['what']) and (b == 'nsubj'):\n",
    "                coreword = c[0]\n",
    "                \n",
    "                print('Coreword is ',coreword) #debug\n",
    "                \n",
    "                break\n",
    "            else:\n",
    "                continue\n",
    "        \n",
    "        #Find operations\n",
    "        if coreword != '':\n",
    "            if coreword in ['average', 'max', 'min', 'sum']:\n",
    "                operation = coreword\n",
    "            else:\n",
    "                for a,b,c in deplist:\n",
    "                    if (a[0] == coreword) and (b in ['amod','nmod', 'compound']):\n",
    "                        if c[0] in ['average', 'max', 'min', 'sum']:\n",
    "                            operation = c[0]\n",
    "                            break\n",
    "                    else:\n",
    "                        operation = 'none'\n",
    "            \n",
    "        #Find Scope and Fields\n",
    "            fields = []\n",
    "            for word in qtokens:\n",
    "                if word in dbcols[:7]: fields.append(word)\n",
    "            \n",
    "            if operation == 'none':\n",
    "                scope = 'for each'\n",
    "                \n",
    "            else:\n",
    "                if (len(fields) > 1): scope = 'for each'\n",
    "                if (len(fields) == 1): scope = 'for all'\n",
    "                if (len(fields) == 0):\n",
    "                    fields.append('courseaverage') #find the correct name\n",
    "                    scope = 'for all'\n",
    "                    \n",
    "\n",
    "        else:\n",
    "            print('Error. I did not understand the question.')\n",
    "            return('Error')\n",
    "            \n",
    "        print('Operation: ',operation) #debug\n",
    "        print('Scope: ',scope) #debug\n",
    "        print('Fields: ', fields) #debug\n",
    "            \n",
    "\n",
    "    #WHO questions\n",
    "    if question.find('who') > -1:\n",
    "        \n",
    "        print('who question') #debug\n",
    "        \n",
    "        fields = ['firstname', 'lastname']\n",
    "        scope = 'for each'\n",
    "        \n",
    "        for op in ['average', 'max', 'min', 'sum']:\n",
    "            if question.find(op) > -1: \n",
    "                operation = op\n",
    "                break\n",
    "            else:\n",
    "                operation = 'none'\n",
    "                continue\n",
    "            \n",
    "            #Fields:\n",
    "        for word in qtokens:\n",
    "            if word in dbcols[:7]: fields.append(word)\n",
    "        \n",
    "        if len(fields) < 3: fields.append('courseaverage')\n",
    "        \n",
    "        print('Operation: ', operation) #debug\n",
    "        print('Scope: ', scope) #debug\n",
    "        print('Fields: ', fields) #debug\n",
    "    \n",
    "    \n",
    "    #HOW MANY questions\n",
    "    if question.find('how many') > -1:\n",
    "        \n",
    "        print('how many question') #debug\n",
    "        \n",
    "        operation = 'none'\n",
    "        fields = []\n",
    "        scope = ''\n",
    "        \n",
    "        print('Operation: ', operation) #debug\n",
    "        print('Scope: ', scope) #debug\n",
    "        print('Fields: ', fields) #debug\n",
    "\n",
    "    #    if sub_words.find('which') > -1:\n"
   ]
  },
  {
   "cell_type": "code",
   "execution_count": 88,
   "metadata": {},
   "outputs": [
    {
     "name": "stdout",
     "output_type": "stream",
     "text": [
      "how many students scored more then 80% on assignment2?\n",
      "[(('scored', 'VBD'), 'nsubj', ('students', 'NNS')), (('students', 'NNS'), 'amod', ('many', 'JJ')), (('many', 'JJ'), 'advmod', ('how', 'WRB')), (('scored', 'VBD'), 'advmod', ('more', 'RBR')), (('more', 'RBR'), 'nmod:npmod', ('%', 'NN')), (('%', 'NN'), 'advmod', ('then', 'RB')), (('%', 'NN'), 'nummod', ('80', 'CD')), (('scored', 'VBD'), 'nmod', ('assignment2', 'CD')), (('assignment2', 'CD'), 'case', ('on', 'IN'))]\n",
      "how many question\n",
      "Operation:  none\n",
      "Scope:  \n",
      "Fields:  []\n"
     ]
    }
   ],
   "source": [
    "question_01 = 'How many students scored more then 80% on assignment 2?'\n",
    "\n",
    "extract_calc(question_01)"
   ]
  },
  {
   "cell_type": "code",
   "execution_count": 53,
   "metadata": {},
   "outputs": [
    {
     "data": {
      "text/plain": [
       "0"
      ]
     },
     "execution_count": 53,
     "metadata": {},
     "output_type": "execute_result"
    }
   ],
   "source": []
  },
  {
   "cell_type": "code",
   "execution_count": null,
   "metadata": {},
   "outputs": [],
   "source": []
  }
 ],
 "metadata": {
  "kernelspec": {
   "display_name": "Python 3",
   "language": "python",
   "name": "python3"
  },
  "language_info": {
   "codemirror_mode": {
    "name": "ipython",
    "version": 3
   },
   "file_extension": ".py",
   "mimetype": "text/x-python",
   "name": "python",
   "nbconvert_exporter": "python",
   "pygments_lexer": "ipython3",
   "version": "3.6.4"
  }
 },
 "nbformat": 4,
 "nbformat_minor": 2
}
